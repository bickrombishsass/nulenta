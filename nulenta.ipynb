{
  "nbformat": 4,
  "nbformat_minor": 0,
  "metadata": {
    "colab": {
      "name": "nulenta.ipynb",
      "provenance": [],
      "authorship_tag": "ABX9TyPf7GmTfqxNjvYCyjwnhoFH",
      "include_colab_link": true
    },
    "kernelspec": {
      "name": "python3",
      "display_name": "Python 3"
    }
  },
  "cells": [
    {
      "cell_type": "markdown",
      "metadata": {
        "id": "view-in-github",
        "colab_type": "text"
      },
      "source": [
        "<a href=\"https://colab.research.google.com/github/bickrombishsass/nulenta/blob/main/nulenta.ipynb\" target=\"_parent\"><img src=\"https://colab.research.google.com/assets/colab-badge.svg\" alt=\"Open In Colab\"/></a>"
      ]
    },
    {
      "cell_type": "code",
      "metadata": {
        "colab": {
          "base_uri": "https://localhost:8080/"
        },
        "id": "sBvT4p-lPlSj",
        "outputId": "97085b36-3389-4168-9092-166a078f3e54"
      },
      "source": [
        "import pandas as pd\r\n",
        "df = pd.read_excel ('/content/Test Data Internship.xlsx',sheet_name=0)\r\n",
        "print (df)"
      ],
      "execution_count": 4,
      "outputs": [
        {
          "output_type": "stream",
          "text": [
            "                                           Job Title  ...                              Industry\n",
            "0                                DevOps/AWS Engineer  ...                                     -\n",
            "1        AWS DevOps developer (Contract) (JR1019883)  ...    \"Consulting and Business Services\"\n",
            "2             DevSecOps Engineer (Terraform and AWS)  ...  \"Government & Public Administration\"\n",
            "3                          DevOps DBA Administration  ...                                     -\n",
            "4                        SecDevOps Engineer --Expert  ...                 \"Aerospace & Defense\"\n",
            "5                       Principal DevSecOps Engineer  ...                  \"Financial Services\"\n",
            "6        Infrastructure / DevOps Automation Designer  ...                 \"Aerospace & Defense\"\n",
            "7       Port Authority Azure DevOps Business Analyst  ...                                     -\n",
            "8  Infrastructure Automation Network Engineer - C...  ...                       \"Manufacturing\"\n",
            "\n",
            "[9 rows x 11 columns]\n"
          ],
          "name": "stdout"
        }
      ]
    },
    {
      "cell_type": "code",
      "metadata": {
        "colab": {
          "base_uri": "https://localhost:8080/",
          "height": 171
        },
        "id": "0AWdXzIwQKQQ",
        "outputId": "1541d3c4-37ed-4d49-cf8b-bd7c2b74a17f"
      },
      "source": [
        "text=df['job description'][4]\r\n",
        "lst=text.split()\r\n",
        "text"
      ],
      "execution_count": 57,
      "outputs": [
        {
          "output_type": "execute_result",
          "data": {
            "application/vnd.google.colaboratory.intrinsic+json": {
              "type": "string"
            },
            "text/plain": [
              "'**PENDING AWARDED CONTRACT**\\n\\n\\nJOB OVERVIEW:\\n\\nValiant is Seeking skilled SecDevOps Engineer -Expert to support a fast paced, innovative project supporting our client in the field of data science.\\n\\n\\nRESPONSIBILITIES AND DUTIES:\\n\\n\\nIncludes but not limited to:\\n\\nEngineers lifecycle software solutions.\\nWill maintain and enhance infrastructure as code with technologies including but not limited to cloud formation, terraform, puppet, codedeploy.\\nFrequently uses Python, R, Ruby, and other scripting languages\\nWill develop and maintain complex systems that involved integrating COTS, GOTS, and Open Source components.\\nMaintains clent enterprise operation systems.\\nApplicants who do not possess a TS/SCI with Poly will not be considered for this position.\\nCORE VALUES:\\n\\nINTEGRITY - Honesty, Trust and Respect in every situation\\n\\nEXCELLENCE - Performance, Effectiveness, Quality, and Safety in everything we do\\n\\nINNOVATION - Embracing new ideas and best practice in every service that we provide\\n\\nValiant Integrated Services is an equal opportunity/affirmative action employer. All qualified applicants will receive consideration for employment without regard to sex, gender identity, sexual orientation, race, color, religion, national origin, disability, protected veteran status, age, or any other characteristic protected by law.\\n\\nNOTICE: Valiant Integrated Services NEVER asks job applicants to issue any payment or service fees to Valiant or its recruiters as part of our application process. Before providing any personal information to outside parties, verify that the job you are applying for appears on our Careers site.'"
            ]
          },
          "metadata": {
            "tags": []
          },
          "execution_count": 57
        }
      ]
    },
    {
      "cell_type": "markdown",
      "metadata": {
        "id": "moQd3FeOiOdr"
      },
      "source": [
        "**SKILLS**"
      ]
    },
    {
      "cell_type": "code",
      "metadata": {
        "colab": {
          "base_uri": "https://localhost:8080/"
        },
        "id": "n0YhWq2PRNN5",
        "outputId": "72fdeb88-a31b-427d-8560-a2d8761191a7"
      },
      "source": [
        "searches = ['C++', 'Java', 'Python', '.NET', 'AWS', 'HTML', 'CSS', 'JavaScript', \r\n",
        "            'DevOps','SQL','Azure', 'DB', 'DBMS', 'Ruby', 'cloud',   ]\r\n",
        "print([ele for ele in lst if(ele in searches)])"
      ],
      "execution_count": 55,
      "outputs": [
        {
          "output_type": "stream",
          "text": [
            "['cloud']\n"
          ],
          "name": "stdout"
        }
      ]
    },
    {
      "cell_type": "markdown",
      "metadata": {
        "id": "et8UyaLQiQVC"
      },
      "source": [
        "**JOB TITLE**"
      ]
    },
    {
      "cell_type": "code",
      "metadata": {
        "colab": {
          "base_uri": "https://localhost:8080/"
        },
        "id": "dEGpi-N4ck_e",
        "outputId": "06dbbdbe-de02-4e21-bf52-cbdf65befea0"
      },
      "source": [
        "try:\r\n",
        "    next_word1 = lst[lst.index(\"Engineer\") - 1]\r\n",
        "    print(next_word1+\" Engineer\")\r\n",
        "except Exception:\r\n",
        "    pass\r\n",
        "\r\n",
        "try:\r\n",
        "    next_word2 = lst[lst.index(\"Developer\") - 1]\r\n",
        "    print(next_word2+\" Developer\")\r\n",
        "except Exception:\r\n",
        "    pass\r\n",
        "try:\r\n",
        "    next_word3 = lst[lst.index(\"Scientist\") - 1]\r\n",
        "    print(next_word3+\" Scientist\")\r\n",
        "except Exception:\r\n",
        "    pass\r\n",
        "try:\r\n",
        "    next_word3 = lst[lst.index(\"Intern\") - 1]\r\n",
        "    print(next_word3+\" Intern\")\r\n",
        "except Exception:\r\n",
        "    pass"
      ],
      "execution_count": 64,
      "outputs": [
        {
          "output_type": "stream",
          "text": [
            "SecDevOps Engineer\n"
          ],
          "name": "stdout"
        }
      ]
    },
    {
      "cell_type": "markdown",
      "metadata": {
        "id": "do7czocHjS96"
      },
      "source": [
        "**LOCATION**"
      ]
    },
    {
      "cell_type": "code",
      "metadata": {
        "id": "q-zw3pUbggv2"
      },
      "source": [
        "try:\r\n",
        "    location = lst[lst.index(\"Location:\") + 1]\r\n",
        "    print(next_word1)\r\n",
        "except Exception:\r\n",
        "    pass"
      ],
      "execution_count": 66,
      "outputs": []
    },
    {
      "cell_type": "code",
      "metadata": {
        "id": "ECjcIGqXjAHc"
      },
      "source": [
        ""
      ],
      "execution_count": null,
      "outputs": []
    }
  ]
}